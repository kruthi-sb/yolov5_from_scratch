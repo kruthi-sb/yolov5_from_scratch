{
 "cells": [
  {
   "cell_type": "code",
   "execution_count": 37,
   "metadata": {},
   "outputs": [
    {
     "data": {
      "image/png": "[encoded data removed]",
      "text/plain": [
       "<Figure size 640x480 with 1 Axes>"
      ]
     },
     "metadata": {},
     "output_type": "display_data"
    }
   ],
   "source": [
    "# VISUALIZE INPUT TENSORS OF SHAPE: [batch_size, channels, height, width]\n",
    "\n",
    "# eg.\n",
    "import torch\n",
    "from torch import nn\n",
    "import matplotlib.pyplot as plt\n",
    "import numpy as np\n",
    "\n",
    "# (example values) -> pixel values between 0 to 255\n",
    "tensor = torch.tensor([[\n",
    "    [[100,200], [40,170]],  # Red channel\n",
    "    [[150,6], [70,80]],  # Green channel\n",
    "    [[50,0], [255,150]]   # Blue channel\n",
    "]])\n",
    "\n",
    "# Convert to numpy and prepare for visualization\n",
    "image = tensor.squeeze(0)  # Remove batch dimension -> 3x2x2\n",
    "image = image.permute(1, 2, 0)  # Change to HxWxC format -> 2x2x3\n",
    "image = image.numpy()  # Convert to numpy array\n",
    "\n",
    "# Display the image\n",
    "plt.imshow(image)\n",
    "plt.axis('off')  # Hide axes\n",
    "plt.title('2x2 RGB Image')\n",
    "plt.show()"
   ]
  },
  {
   "cell_type": "code",
   "execution_count": null,
   "metadata": {},
   "outputs": [],
   "source": [
    "# function to visualize tensors\n",
    "\n",
    "def plot_tensor(input):\n",
    "    # Convert to numpy and prepare for visualization\n",
    "    image = input.squeeze(0)  # Remove batch dimension\n",
    "    image = image.permute(1, 2, 0)  # Change to HxWxC format\n",
    "    image = image.numpy()  # Convert to numpy array\n",
    "\n",
    "    # Display the image\n",
    "    plt.imshow(image)\n",
    "    plt.axis('off')  # Hide axes\n",
    "    plt.show()"
   ]
  },
  {
   "cell_type": "code",
   "execution_count": 39,
   "metadata": {},
   "outputs": [
    {
     "name": "stdout",
     "output_type": "stream",
     "text": [
      "input:  tensor([[[[1.0000e+00, 2.0000e+00, 3.0000e+00,  ..., 2.8000e+01,\n",
      "           2.9000e+01, 3.0000e+01],\n",
      "          [3.1000e+01, 3.2000e+01, 3.3000e+01,  ..., 5.8000e+01,\n",
      "           5.9000e+01, 6.0000e+01],\n",
      "          [6.1000e+01, 6.2000e+01, 6.3000e+01,  ..., 8.8000e+01,\n",
      "           8.9000e+01, 9.0000e+01],\n",
      "          ...,\n",
      "          [8.1100e+02, 8.1200e+02, 8.1300e+02,  ..., 8.3800e+02,\n",
      "           8.3900e+02, 8.4000e+02],\n",
      "          [8.4100e+02, 8.4200e+02, 8.4300e+02,  ..., 8.6800e+02,\n",
      "           8.6900e+02, 8.7000e+02],\n",
      "          [8.7100e+02, 8.7200e+02, 8.7300e+02,  ..., 8.9800e+02,\n",
      "           8.9900e+02, 9.0000e+02]],\n",
      "\n",
      "         [[9.0100e+02, 9.0200e+02, 9.0300e+02,  ..., 9.2800e+02,\n",
      "           9.2900e+02, 9.3000e+02],\n",
      "          [9.3100e+02, 9.3200e+02, 9.3300e+02,  ..., 9.5800e+02,\n",
      "           9.5900e+02, 9.6000e+02],\n",
      "          [9.6100e+02, 9.6200e+02, 9.6300e+02,  ..., 9.8800e+02,\n",
      "           9.8900e+02, 9.9000e+02],\n",
      "          ...,\n",
      "          [1.7110e+03, 1.7120e+03, 1.7130e+03,  ..., 1.7380e+03,\n",
      "           1.7390e+03, 1.7400e+03],\n",
      "          [1.7410e+03, 1.7420e+03, 1.7430e+03,  ..., 1.7680e+03,\n",
      "           1.7690e+03, 1.7700e+03],\n",
      "          [1.7710e+03, 1.7720e+03, 1.7730e+03,  ..., 1.7980e+03,\n",
      "           1.7990e+03, 1.8000e+03]],\n",
      "\n",
      "         [[1.8010e+03, 1.8020e+03, 1.8030e+03,  ..., 1.8280e+03,\n",
      "           1.8290e+03, 1.8300e+03],\n",
      "          [1.8310e+03, 1.8320e+03, 1.8330e+03,  ..., 1.8580e+03,\n",
      "           1.8590e+03, 1.8600e+03],\n",
      "          [1.8610e+03, 1.8620e+03, 1.8630e+03,  ..., 1.8880e+03,\n",
      "           1.8890e+03, 1.8900e+03],\n",
      "          ...,\n",
      "          [2.6110e+03, 2.6120e+03, 2.6130e+03,  ..., 2.6380e+03,\n",
      "           2.6390e+03, 2.6400e+03],\n",
      "          [2.6410e+03, 2.6420e+03, 2.6430e+03,  ..., 2.6680e+03,\n",
      "           2.6690e+03, 2.6700e+03],\n",
      "          [2.6710e+03, 2.6720e+03, 2.6730e+03,  ..., 2.6980e+03,\n",
      "           2.6990e+03, 2.7000e+03]]]])\n",
      "input shape:  torch.Size([1, 3, 30, 30])\n",
      "nearest interpolation:  tensor([[[[1.0000e+00, 1.0000e+00, 2.0000e+00,  ..., 2.9000e+01,\n",
      "           3.0000e+01, 3.0000e+01],\n",
      "          [1.0000e+00, 1.0000e+00, 2.0000e+00,  ..., 2.9000e+01,\n",
      "           3.0000e+01, 3.0000e+01],\n",
      "          [3.1000e+01, 3.1000e+01, 3.2000e+01,  ..., 5.9000e+01,\n",
      "           6.0000e+01, 6.0000e+01],\n",
      "          ...,\n",
      "          [8.4100e+02, 8.4100e+02, 8.4200e+02,  ..., 8.6900e+02,\n",
      "           8.7000e+02, 8.7000e+02],\n",
      "          [8.7100e+02, 8.7100e+02, 8.7200e+02,  ..., 8.9900e+02,\n",
      "           9.0000e+02, 9.0000e+02],\n",
      "          [8.7100e+02, 8.7100e+02, 8.7200e+02,  ..., 8.9900e+02,\n",
      "           9.0000e+02, 9.0000e+02]],\n",
      "\n",
      "         [[9.0100e+02, 9.0100e+02, 9.0200e+02,  ..., 9.2900e+02,\n",
      "           9.3000e+02, 9.3000e+02],\n",
      "          [9.0100e+02, 9.0100e+02, 9.0200e+02,  ..., 9.2900e+02,\n",
      "           9.3000e+02, 9.3000e+02],\n",
      "          [9.3100e+02, 9.3100e+02, 9.3200e+02,  ..., 9.5900e+02,\n",
      "           9.6000e+02, 9.6000e+02],\n",
      "          ...,\n",
      "          [1.7410e+03, 1.7410e+03, 1.7420e+03,  ..., 1.7690e+03,\n",
      "           1.7700e+03, 1.7700e+03],\n",
      "          [1.7710e+03, 1.7710e+03, 1.7720e+03,  ..., 1.7990e+03,\n",
      "           1.8000e+03, 1.8000e+03],\n",
      "          [1.7710e+03, 1.7710e+03, 1.7720e+03,  ..., 1.7990e+03,\n",
      "           1.8000e+03, 1.8000e+03]],\n",
      "\n",
      "         [[1.8010e+03, 1.8010e+03, 1.8020e+03,  ..., 1.8290e+03,\n",
      "           1.8300e+03, 1.8300e+03],\n",
      "          [1.8010e+03, 1.8010e+03, 1.8020e+03,  ..., 1.8290e+03,\n",
      "           1.8300e+03, 1.8300e+03],\n",
      "          [1.8310e+03, 1.8310e+03, 1.8320e+03,  ..., 1.8590e+03,\n",
      "           1.8600e+03, 1.8600e+03],\n",
      "          ...,\n",
      "          [2.6410e+03, 2.6410e+03, 2.6420e+03,  ..., 2.6690e+03,\n",
      "           2.6700e+03, 2.6700e+03],\n",
      "          [2.6710e+03, 2.6710e+03, 2.6720e+03,  ..., 2.6990e+03,\n",
      "           2.7000e+03, 2.7000e+03],\n",
      "          [2.6710e+03, 2.6710e+03, 2.6720e+03,  ..., 2.6990e+03,\n",
      "           2.7000e+03, 2.7000e+03]]]])\n"
     ]
    }
   ],
   "source": [
    "\n",
    "\n",
    "# INTERPOLATION\n",
    "\n",
    "input = torch.arange(1, 2701, dtype=torch.float32).view(1, 3, 30, 30) \n",
    "# arange: is for creating a tensor with (eg. values from 1 to 12)\n",
    "# view: is for reshaping the tensor to 1x3x30x30 - [batch_size, channels, height, width]\n",
    "\n",
    "print(\"input: \", input)\n",
    "print(\"input shape: \", input.shape)\n",
    "\n",
    "m = nn.Upsample(scale_factor=2, mode='nearest')\n",
    "res = m(input)\n",
    "# Upsample: is for resizing the input tensor - essentially, increasing the resolution of the image.\n",
    "# scale_factor: if 2, then the height and width of the image will be doubled.\n",
    "# mode: nearest - the nearest pixel value is used for the new pixels.\n",
    "# other modes: bilinear, bicubic, trilinear, etc\n",
    "\n",
    "print(\"nearest interpolation: \", res)"
   ]
  },
  {
   "cell_type": "code",
   "execution_count": 9,
   "metadata": {},
   "outputs": [
    {
     "ename": "RuntimeError",
     "evalue": "shape '[2, 2]' is invalid for input of size 12",
     "output_type": "error",
     "traceback": [
      "\u001b[1;31m---------------------------------------------------------------------------\u001b[0m",
      "\u001b[1;31mRuntimeError\u001b[0m                              Traceback (most recent call last)",
      "Cell \u001b[1;32mIn[9], line 12\u001b[0m\n\u001b[0;32m      9\u001b[0m     plt\u001b[38;5;241m.\u001b[39mimshow(tensor\u001b[38;5;241m.\u001b[39mview(tensor\u001b[38;5;241m.\u001b[39mshape[\u001b[38;5;241m-\u001b[39m\u001b[38;5;241m2\u001b[39m], tensor\u001b[38;5;241m.\u001b[39mshape[\u001b[38;5;241m-\u001b[39m\u001b[38;5;241m1\u001b[39m])\u001b[38;5;241m.\u001b[39mnumpy(), cmap\u001b[38;5;241m=\u001b[39m\u001b[38;5;124m'\u001b[39m\u001b[38;5;124mgray\u001b[39m\u001b[38;5;124m'\u001b[39m)\n\u001b[0;32m     10\u001b[0m     plt\u001b[38;5;241m.\u001b[39mshow()\n\u001b[1;32m---> 12\u001b[0m \u001b[43mplot_tensor\u001b[49m\u001b[43m(\u001b[49m\u001b[38;5;28;43minput\u001b[39;49m\u001b[43m)\u001b[49m\n",
      "Cell \u001b[1;32mIn[9], line 9\u001b[0m, in \u001b[0;36mplot_tensor\u001b[1;34m(tensor)\u001b[0m\n\u001b[0;32m      5\u001b[0m \u001b[38;5;28;01mdef\u001b[39;00m \u001b[38;5;21mplot_tensor\u001b[39m(tensor):\n\u001b[0;32m      6\u001b[0m \u001b[38;5;250m    \u001b[39m\u001b[38;5;124;03m\"\"\"\u001b[39;00m\n\u001b[0;32m      7\u001b[0m \u001b[38;5;124;03m    plots the visual representation of a tensor.\u001b[39;00m\n\u001b[0;32m      8\u001b[0m \u001b[38;5;124;03m    \"\"\"\u001b[39;00m\n\u001b[1;32m----> 9\u001b[0m     plt\u001b[38;5;241m.\u001b[39mimshow(\u001b[43mtensor\u001b[49m\u001b[38;5;241;43m.\u001b[39;49m\u001b[43mview\u001b[49m\u001b[43m(\u001b[49m\u001b[43mtensor\u001b[49m\u001b[38;5;241;43m.\u001b[39;49m\u001b[43mshape\u001b[49m\u001b[43m[\u001b[49m\u001b[38;5;241;43m-\u001b[39;49m\u001b[38;5;241;43m2\u001b[39;49m\u001b[43m]\u001b[49m\u001b[43m,\u001b[49m\u001b[43m \u001b[49m\u001b[43mtensor\u001b[49m\u001b[38;5;241;43m.\u001b[39;49m\u001b[43mshape\u001b[49m\u001b[43m[\u001b[49m\u001b[38;5;241;43m-\u001b[39;49m\u001b[38;5;241;43m1\u001b[39;49m\u001b[43m]\u001b[49m\u001b[43m)\u001b[49m\u001b[38;5;241m.\u001b[39mnumpy(), cmap\u001b[38;5;241m=\u001b[39m\u001b[38;5;124m'\u001b[39m\u001b[38;5;124mgray\u001b[39m\u001b[38;5;124m'\u001b[39m)\n\u001b[0;32m     10\u001b[0m     plt\u001b[38;5;241m.\u001b[39mshow()\n",
      "\u001b[1;31mRuntimeError\u001b[0m: shape '[2, 2]' is invalid for input of size 12"
     ]
    }
   ],
   "source": [
    "# VISUALIZE INTERPOLATION\n",
    "\n",
    "import matplotlib.pyplot as plt\n",
    "\n",
    "def plot_tensor(tensor):\n",
    "    \"\"\"\n",
    "    plots the visual representation of a tensor.\n",
    "    \"\"\"\n",
    "    plt.imshow(tensor.view(tensor.shape[-2], tensor.shape[-1]).numpy(), cmap='gray')\n",
    "    plt.show()\n",
    "\n",
    "plot_tensor(input)\n"
   ]
  },
  {
   "cell_type": "code",
   "execution_count": null,
   "metadata": {},
   "outputs": [],
   "source": []
  }
 ],
 "metadata": {
  "kernelspec": {
   "display_name": "Python 3",
   "language": "python",
   "name": "python3"
  },
  "language_info": {
   "codemirror_mode": {
    "name": "ipython",
    "version": 3
   },
   "file_extension": ".py",
   "mimetype": "text/x-python",
   "name": "python",
   "nbconvert_exporter": "python",
   "pygments_lexer": "ipython3",
   "version": "3.8.20"
  }
 },
 "nbformat": 4,
 "nbformat_minor": 2
}
